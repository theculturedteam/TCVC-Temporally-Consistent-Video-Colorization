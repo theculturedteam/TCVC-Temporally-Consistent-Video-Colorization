{
  "nbformat": 4,
  "nbformat_minor": 0,
  "metadata": {
    "colab": {
      "provenance": [],
      "include_colab_link": true
    },
    "kernelspec": {
      "name": "python3",
      "display_name": "Python 3"
    },
    "language_info": {
      "name": "python"
    }
  },
  "cells": [
    {
      "cell_type": "markdown",
      "metadata": {
        "id": "view-in-github",
        "colab_type": "text"
      },
      "source": [
        "<a href=\"https://colab.research.google.com/github/theculturedteam/TCVC-Temporally-Consistent-Video-Colorization/blob/main/major-project-drive.ipynb\" target=\"_parent\"><img src=\"https://colab.research.google.com/assets/colab-badge.svg\" alt=\"Open In Colab\"/></a>"
      ]
    },
    {
      "cell_type": "code",
      "source": [
        "from google.colab import drive\n",
        "drive.mount('/content/drive')"
      ],
      "metadata": {
        "id": "nKAEIefmkxzH"
      },
      "execution_count": null,
      "outputs": []
    },
    {
      "cell_type": "markdown",
      "source": [
        "Install Conda"
      ],
      "metadata": {
        "id": "4RzCmzv6flOV"
      }
    },
    {
      "cell_type": "code",
      "source": [
        "%env PYTHONPATH=\n",
        "\n",
        "!wget https://repo.anaconda.com/miniconda/Miniconda3-latest-Linux-x86_64.sh -O miniconda.sh\n",
        "!bash miniconda.sh -b -u -p /usr/local\n",
        "!rm miniconda.sh"
      ],
      "metadata": {
        "collapsed": true,
        "id": "BpPqRmc7ynSo"
      },
      "execution_count": null,
      "outputs": []
    },
    {
      "cell_type": "code",
      "source": [
        "!cat /usr/local/bin/activate\n",
        "!source /usr/local/bin/activate"
      ],
      "metadata": {
        "collapsed": true,
        "id": "arTYCOWP0ILE"
      },
      "execution_count": null,
      "outputs": []
    },
    {
      "cell_type": "code",
      "source": [
        "!conda init --all"
      ],
      "metadata": {
        "collapsed": true,
        "id": "G8-K82Fy9aZO"
      },
      "execution_count": null,
      "outputs": []
    },
    {
      "cell_type": "markdown",
      "source": [
        "Installing Requirements"
      ],
      "metadata": {
        "id": "egVZNRcBgGr4"
      }
    },
    {
      "cell_type": "code",
      "source": [
        "%cd \"/content\"\n",
        "!conda env create -f environment.yaml"
      ],
      "metadata": {
        "collapsed": true,
        "id": "pg4orwl4ynu1"
      },
      "execution_count": null,
      "outputs": []
    },
    {
      "cell_type": "code",
      "source": [
        "# Additional setup here\n",
        "%cd \"/content\"\n",
        "!git clone --recurse-submodules https://github.com/theculturedteam/TCVC-Temporally-Consistent-Video-Colorization\n",
        "%cd \"/content/TCVC-Temporally-Consistent-Video-Colorization/codes/\""
      ],
      "metadata": {
        "collapsed": true,
        "id": "h2xAU9Z-3igF"
      },
      "execution_count": null,
      "outputs": []
    },
    {
      "cell_type": "code",
      "source": [
        "%cd \"/content/TCVC-Temporally-Consistent-Video-Colorization/codes/\""
      ],
      "metadata": {
        "id": "hgiHnxRIygD5"
      },
      "execution_count": null,
      "outputs": []
    },
    {
      "cell_type": "code",
      "source": [
        "%%shell\n",
        "eval \"$(conda shell.bash hook)\" # copy conda command to shell\n",
        "conda activate major-project\n",
        "\n",
        "# Run all codes here\n",
        "pwd\n",
        "cd models/archs/networks/channelnorm_package/\n",
        "python setup.py develop\n",
        "cd ../../../../\n",
        "\n",
        "cd models/archs/networks/correlation_package/\n",
        "python setup.py develop\n",
        "cd ../../../../\n",
        "\n",
        "cd models/archs/networks/resample2d_package/\n",
        "python setup.py develop\n",
        "cd ../../../../\n",
        "\n",
        "conda deactivate"
      ],
      "metadata": {
        "collapsed": true,
        "id": "KCtyvWIB7PK7"
      },
      "execution_count": null,
      "outputs": []
    },
    {
      "cell_type": "code",
      "source": [
        "%%shell\n",
        "eval \"$(conda shell.bash hook)\" # copy conda command to shell\n",
        "conda activate major-project\n",
        "\n",
        "conda install tensorboard --channel conda-forge -y\n",
        "pip install lmdb gdown\n",
        "\n",
        "conda deactivate"
      ],
      "metadata": {
        "collapsed": true,
        "id": "k1a2oocvI4WO"
      },
      "execution_count": null,
      "outputs": []
    },
    {
      "cell_type": "markdown",
      "source": [
        "Pretrained ddcolor model"
      ],
      "metadata": {
        "id": "R1f8dYv5nMej"
      }
    },
    {
      "cell_type": "code",
      "source": [
        "%%shell\n",
        "ln -sf \"/content/drive/MyDrive/TCVC-Temporally-Consistent-Video-Colorization/experiments/pretrained_models/modelscope\" \"/content/TCVC-Temporally-Consistent-Video-Colorization/experiments/pretrained_models/\""
      ],
      "metadata": {
        "collapsed": true,
        "id": "sCIjoTRNMdXM"
      },
      "execution_count": null,
      "outputs": []
    },
    {
      "cell_type": "markdown",
      "source": [
        "Downloading pretrained flownet2 and siggraph model"
      ],
      "metadata": {
        "id": "fxZDT025TFhX"
      }
    },
    {
      "cell_type": "code",
      "source": [
        "%%shell\n",
        "ln -sf \"/content/drive/MyDrive/TCVC-Temporally-Consistent-Video-Colorization/experiments/pretrained_models/FlowNet2_checkpoint.pth.tar\" \"/content/TCVC-Temporally-Consistent-Video-Colorization/experiments/pretrained_models/\"\n",
        "ln -sf \"/content/drive/MyDrive/TCVC-Temporally-Consistent-Video-Colorization/experiments/pretrained_models/siggraph17-df00044c.pth\" \"/content/TCVC-Temporally-Consistent-Video-Colorization/experiments/pretrained_models/\""
      ],
      "metadata": {
        "id": "wcuA_vTjKfph"
      },
      "execution_count": null,
      "outputs": []
    },
    {
      "cell_type": "markdown",
      "source": [
        "Downloading Training Dataset"
      ],
      "metadata": {
        "id": "6Lb57OuiVRUn"
      }
    },
    {
      "cell_type": "code",
      "source": [
        "%%shell\n",
        "ln -s \"/content/drive/MyDrive/Training\" \"/content/\""
      ],
      "metadata": {
        "collapsed": true,
        "id": "UjicpO1xRsOe"
      },
      "execution_count": null,
      "outputs": []
    },
    {
      "cell_type": "markdown",
      "source": [
        "Downloading Testing"
      ],
      "metadata": {
        "id": "4uNn3c-mYVJ8"
      }
    },
    {
      "cell_type": "code",
      "source": [
        "%%shell\n",
        "ln -s \"/content/drive/MyDrive/Testing\" \"/content/\""
      ],
      "metadata": {
        "id": "ejftMw_JYPBt"
      },
      "execution_count": null,
      "outputs": []
    },
    {
      "cell_type": "code",
      "source": [
        "%cd \"/content/TCVC-Temporally-Consistent-Video-Colorization/codes\""
      ],
      "metadata": {
        "id": "oo5EjdJSa2T1"
      },
      "execution_count": null,
      "outputs": []
    },
    {
      "cell_type": "code",
      "source": [
        "%%shell\n",
        "eval \"$(conda shell.bash hook)\" # copy conda command to shell\n",
        "conda activate major-project\n",
        "\n",
        "# Run all codes here\n",
        "pwd\n",
        "\n",
        "python train_TCVC.py -opt options/train/train_TCVC_IDC.yml\n",
        "\n",
        "conda deactivate"
      ],
      "metadata": {
        "collapsed": true,
        "id": "3klK-8Z22oaw"
      },
      "execution_count": null,
      "outputs": []
    },
    {
      "cell_type": "code",
      "source": [
        "# !git pull --rebase"
      ],
      "metadata": {
        "id": "sn1MFHC--mRy"
      },
      "execution_count": null,
      "outputs": []
    },
    {
      "cell_type": "code",
      "source": [
        "# %cd /content/TCVC-Temporally-Consistent-Video-Colorization/codes/models/archs/colorizers/ddcolor\n",
        "# !git restore ."
      ],
      "metadata": {
        "id": "Dm6wvzc6_4TR"
      },
      "execution_count": null,
      "outputs": []
    },
    {
      "cell_type": "code",
      "source": [
        "# %cd /content/TCVC-Temporally-Consistent-Video-Colorization/codes/models/archs/colorizers/ddcolor\n",
        "# !git pull --rebase"
      ],
      "metadata": {
        "id": "2-YEYkpzw9z5"
      },
      "execution_count": null,
      "outputs": []
    }
  ]
}